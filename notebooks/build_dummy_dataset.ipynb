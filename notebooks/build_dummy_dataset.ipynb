{
 "cells": [
  {
   "attachments": {},
   "cell_type": "markdown",
   "metadata": {},
   "source": [
    "## Imports"
   ]
  },
  {
   "cell_type": "code",
   "execution_count": 1,
   "metadata": {},
   "outputs": [],
   "source": [
    "import xarray as xr\n",
    "import netCDF4 as nc\n",
    "import numpy as np"
   ]
  },
  {
   "attachments": {},
   "cell_type": "markdown",
   "metadata": {},
   "source": [
    "## Load data"
   ]
  },
  {
   "cell_type": "code",
   "execution_count": 2,
   "metadata": {},
   "outputs": [
    {
     "name": "stdout",
     "output_type": "stream",
     "text": [
      "Frozen({'time': 504, 'bnds': 2, 'longitude': 192, 'latitude': 94, 'longitude_2': 144, 'latitude_2': 73, 'levels': 1})\n"
     ]
    }
   ],
   "source": [
    "data_dir = \"../../data/\"\n",
    "\n",
    "# Load the isoGSM model monthly mean dataset\n",
    "data_file = data_dir + \"IsoGSM/Total.IsoGSM.ERA5.monmean.nc\"\n",
    "dataset = xr.open_dataset(data_file)\n",
    "\n",
    "print(dataset.dims)"
   ]
  },
  {
   "attachments": {},
   "cell_type": "markdown",
   "metadata": {},
   "source": [
    "## Randomize the values"
   ]
  },
  {
   "cell_type": "code",
   "execution_count": 3,
   "metadata": {},
   "outputs": [
    {
     "name": "stdout",
     "output_type": "stream",
     "text": [
      "Frozen({'time': 504, 'latitude': 94, 'longitude': 192, 'levels': 1, 'latitude_2': 73, 'longitude_2': 144})\n"
     ]
    }
   ],
   "source": [
    "dummy_ds = dataset.copy()\n",
    "dummy_ds = dummy_ds[[\"d18O_pr\", \"hgtprs\", \"pratesfc\", \"tmp2m\"]] \n",
    "\n",
    "print(dummy_ds.dims)"
   ]
  },
  {
   "cell_type": "code",
   "execution_count": 4,
   "metadata": {},
   "outputs": [],
   "source": [
    "np.random.seed(2023)\n",
    "dummy_ds.d18O_pr.values = np.random.normal(3, 1, dummy_ds.d18O_pr.values.shape)\n",
    "dummy_ds.hgtprs.values = np.random.normal(5000, 10, dummy_ds.hgtprs.values.shape)\n",
    "dummy_ds.tmp2m.values = np.random.normal(81 * dummy_ds.d18O_pr.values + 1, 6, dummy_ds.tmp2m.values.shape)\n",
    "dummy_ds.pratesfc.values = np.random.normal(np.exp(-3 * dummy_ds.d18O_pr.values - 1.5) + 3e-8, 4e-7, dummy_ds.pratesfc.values.shape)"
   ]
  },
  {
   "attachments": {},
   "cell_type": "markdown",
   "metadata": {},
   "source": [
    "## Save data"
   ]
  },
  {
   "cell_type": "code",
   "execution_count": 5,
   "metadata": {},
   "outputs": [],
   "source": [
    "out_file = data_dir + \"dummy_dataset.nc\"\n",
    "dummy_ds.to_netcdf(out_file)"
   ]
  }
 ],
 "metadata": {
  "kernelspec": {
   "display_name": "slipp",
   "language": "python",
   "name": "python3"
  },
  "language_info": {
   "codemirror_mode": {
    "name": "ipython",
    "version": 3
   },
   "file_extension": ".py",
   "mimetype": "text/x-python",
   "name": "python",
   "nbconvert_exporter": "python",
   "pygments_lexer": "ipython3",
   "version": "3.10.11"
  },
  "orig_nbformat": 4
 },
 "nbformat": 4,
 "nbformat_minor": 2
}
